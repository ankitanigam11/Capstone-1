{
 "cells": [
  {
   "cell_type": "code",
   "execution_count": 52,
   "metadata": {},
   "outputs": [],
   "source": [
    "import pandas as pd\n",
    "import numpy as np\n",
    "import matplotlib.pyplot as plt\n",
    "import seaborn as sns\n",
    "from scipy import stats\n",
    "sns.set()\n",
    "%matplotlib inline\n",
    "import warnings\n",
    "warnings.filterwarnings('ignore')\n",
    "from IPython.display import display, HTML"
   ]
  },
  {
   "cell_type": "code",
   "execution_count": 5,
   "metadata": {},
   "outputs": [
    {
     "data": {
      "text/html": [
       "<div>\n",
       "<style scoped>\n",
       "    .dataframe tbody tr th:only-of-type {\n",
       "        vertical-align: middle;\n",
       "    }\n",
       "\n",
       "    .dataframe tbody tr th {\n",
       "        vertical-align: top;\n",
       "    }\n",
       "\n",
       "    .dataframe thead th {\n",
       "        text-align: right;\n",
       "    }\n",
       "</style>\n",
       "<table border=\"1\" class=\"dataframe\">\n",
       "  <thead>\n",
       "    <tr style=\"text-align: right;\">\n",
       "      <th></th>\n",
       "      <th>Zip Code</th>\n",
       "      <th>Smoking Prevalence</th>\n",
       "      <th>Hypertension Prevalence</th>\n",
       "      <th>Obesity Prevalence</th>\n",
       "      <th>Sedentarism Prevalence</th>\n",
       "      <th>Cholesterol Prevalence</th>\n",
       "      <th>Diabetes Prevalence</th>\n",
       "      <th>Heart Disease Prevalence</th>\n",
       "      <th>Restaurant Count</th>\n",
       "      <th>median_household_income</th>\n",
       "      <th>Population</th>\n",
       "      <th>Population Group</th>\n",
       "      <th>Restaurant Group</th>\n",
       "    </tr>\n",
       "  </thead>\n",
       "  <tbody>\n",
       "    <tr>\n",
       "      <th>0</th>\n",
       "      <td>1101</td>\n",
       "      <td>28.300000</td>\n",
       "      <td>36.400000</td>\n",
       "      <td>44.000000</td>\n",
       "      <td>46.600000</td>\n",
       "      <td>41.300000</td>\n",
       "      <td>19.300000</td>\n",
       "      <td>9.300000</td>\n",
       "      <td>2.0</td>\n",
       "      <td>NaN</td>\n",
       "      <td>NaN</td>\n",
       "      <td>NaN</td>\n",
       "      <td>NaN</td>\n",
       "    </tr>\n",
       "    <tr>\n",
       "      <th>1</th>\n",
       "      <td>1104</td>\n",
       "      <td>24.269272</td>\n",
       "      <td>33.257045</td>\n",
       "      <td>37.437441</td>\n",
       "      <td>37.721353</td>\n",
       "      <td>38.392990</td>\n",
       "      <td>14.837576</td>\n",
       "      <td>8.816472</td>\n",
       "      <td>5.0</td>\n",
       "      <td>32273.0</td>\n",
       "      <td>22865.0</td>\n",
       "      <td>20000-40000</td>\n",
       "      <td>0-7</td>\n",
       "    </tr>\n",
       "    <tr>\n",
       "      <th>2</th>\n",
       "      <td>1105</td>\n",
       "      <td>28.596151</td>\n",
       "      <td>32.879892</td>\n",
       "      <td>42.176132</td>\n",
       "      <td>43.694299</td>\n",
       "      <td>37.409454</td>\n",
       "      <td>15.840128</td>\n",
       "      <td>7.849705</td>\n",
       "      <td>4.0</td>\n",
       "      <td>18402.0</td>\n",
       "      <td>12350.0</td>\n",
       "      <td>&lt;20000</td>\n",
       "      <td>0-7</td>\n",
       "    </tr>\n",
       "    <tr>\n",
       "      <th>3</th>\n",
       "      <td>1107</td>\n",
       "      <td>25.495498</td>\n",
       "      <td>31.912761</td>\n",
       "      <td>41.052003</td>\n",
       "      <td>44.608772</td>\n",
       "      <td>38.631033</td>\n",
       "      <td>16.712049</td>\n",
       "      <td>8.234889</td>\n",
       "      <td>1.0</td>\n",
       "      <td>21737.0</td>\n",
       "      <td>11611.0</td>\n",
       "      <td>&lt;20000</td>\n",
       "      <td>0-7</td>\n",
       "    </tr>\n",
       "    <tr>\n",
       "      <th>4</th>\n",
       "      <td>1108</td>\n",
       "      <td>23.351695</td>\n",
       "      <td>29.923640</td>\n",
       "      <td>34.742488</td>\n",
       "      <td>33.123923</td>\n",
       "      <td>35.242800</td>\n",
       "      <td>12.185663</td>\n",
       "      <td>6.873862</td>\n",
       "      <td>2.0</td>\n",
       "      <td>34064.0</td>\n",
       "      <td>26688.0</td>\n",
       "      <td>20000-40000</td>\n",
       "      <td>0-7</td>\n",
       "    </tr>\n",
       "  </tbody>\n",
       "</table>\n",
       "</div>"
      ],
      "text/plain": [
       "   Zip Code  Smoking Prevalence  Hypertension Prevalence  Obesity Prevalence  \\\n",
       "0      1101           28.300000                36.400000           44.000000   \n",
       "1      1104           24.269272                33.257045           37.437441   \n",
       "2      1105           28.596151                32.879892           42.176132   \n",
       "3      1107           25.495498                31.912761           41.052003   \n",
       "4      1108           23.351695                29.923640           34.742488   \n",
       "\n",
       "   Sedentarism Prevalence  Cholesterol Prevalence  Diabetes Prevalence  \\\n",
       "0               46.600000               41.300000            19.300000   \n",
       "1               37.721353               38.392990            14.837576   \n",
       "2               43.694299               37.409454            15.840128   \n",
       "3               44.608772               38.631033            16.712049   \n",
       "4               33.123923               35.242800            12.185663   \n",
       "\n",
       "   Heart Disease Prevalence  Restaurant Count  median_household_income  \\\n",
       "0                  9.300000               2.0                      NaN   \n",
       "1                  8.816472               5.0                  32273.0   \n",
       "2                  7.849705               4.0                  18402.0   \n",
       "3                  8.234889               1.0                  21737.0   \n",
       "4                  6.873862               2.0                  34064.0   \n",
       "\n",
       "   Population Population Group Restaurant Group  \n",
       "0         NaN              NaN              NaN  \n",
       "1     22865.0      20000-40000              0-7  \n",
       "2     12350.0           <20000              0-7  \n",
       "3     11611.0           <20000              0-7  \n",
       "4     26688.0      20000-40000              0-7  "
      ]
     },
     "metadata": {},
     "output_type": "display_data"
    },
    {
     "name": "stdout",
     "output_type": "stream",
     "text": [
      "<class 'pandas.core.frame.DataFrame'>\n",
      "RangeIndex: 4796 entries, 0 to 4795\n",
      "Data columns (total 13 columns):\n",
      "Zip Code                    4796 non-null int64\n",
      "Smoking Prevalence          4796 non-null float64\n",
      "Hypertension Prevalence     4796 non-null float64\n",
      "Obesity Prevalence          4796 non-null float64\n",
      "Sedentarism Prevalence      4796 non-null float64\n",
      "Cholesterol Prevalence      4796 non-null float64\n",
      "Diabetes Prevalence         4796 non-null float64\n",
      "Heart Disease Prevalence    4796 non-null float64\n",
      "Restaurant Count            4796 non-null float64\n",
      "median_household_income     4400 non-null float64\n",
      "Population                  4400 non-null float64\n",
      "Population Group            4400 non-null object\n",
      "Restaurant Group            4400 non-null object\n",
      "dtypes: float64(10), int64(1), object(2)\n",
      "memory usage: 487.2+ KB\n"
     ]
    },
    {
     "data": {
      "text/plain": [
       "None"
      ]
     },
     "metadata": {},
     "output_type": "display_data"
    }
   ],
   "source": [
    "heart_prev = pd.read_csv(\"heart_disease_restaurant.csv\")\n",
    "heart_prev.drop(\"Unnamed: 0\", axis=1, inplace=True)\n",
    "display(heart_prev.head())\n",
    "display(heart_prev.info())"
   ]
  },
  {
   "cell_type": "code",
   "execution_count": 6,
   "metadata": {},
   "outputs": [
    {
     "name": "stdout",
     "output_type": "stream",
     "text": [
      "<class 'pandas.core.frame.DataFrame'>\n",
      "RangeIndex: 4796 entries, 0 to 4795\n",
      "Data columns (total 13 columns):\n",
      "Zip Code                    4796 non-null int64\n",
      "Smoking Prevalence          4796 non-null float64\n",
      "Hypertension Prevalence     4796 non-null float64\n",
      "Obesity Prevalence          4796 non-null float64\n",
      "Sedentarism Prevalence      4796 non-null float64\n",
      "Cholesterol Prevalence      4796 non-null float64\n",
      "Diabetes Prevalence         4796 non-null float64\n",
      "Heart Disease Prevalence    4796 non-null float64\n",
      "Restaurant Count            4796 non-null float64\n",
      "median_household_income     4796 non-null float64\n",
      "Population                  4796 non-null float64\n",
      "Population Group            4400 non-null object\n",
      "Restaurant Group            4400 non-null object\n",
      "dtypes: float64(10), int64(1), object(2)\n",
      "memory usage: 487.2+ KB\n"
     ]
    }
   ],
   "source": [
    "heart_prev=heart_prev.fillna(heart_prev.mean(axis=0))\n",
    "heart_prev.info()"
   ]
  },
  {
   "cell_type": "markdown",
   "metadata": {},
   "source": [
    "## Analysis of the Data"
   ]
  },
  {
   "cell_type": "markdown",
   "metadata": {},
   "source": [
    "The data is split into the target variable, heart disease prevalence (y), and its features (X).\n",
    "\n",
    "We will use various untuned supervised learning estimators to see which works best by default. We will then tune the top-performing estimators. The metric used for performance will be RMSE and 5-fold cross-validation with be performed.\n",
    "\n",
    "Training will be performed using 80% of the data, and 20% will be reserved for final evaluation of the model."
   ]
  },
  {
   "cell_type": "code",
   "execution_count": 7,
   "metadata": {},
   "outputs": [],
   "source": [
    "# Import split, cross validation, imputer and pipeline\n",
    "from sklearn.model_selection import train_test_split\n",
    "from sklearn.model_selection import cross_val_score, cross_val_predict\n",
    "from sklearn.metrics import mean_squared_error\n",
    "from sklearn.metrics import accuracy_score\n",
    "from sklearn import metrics"
   ]
  },
  {
   "cell_type": "code",
   "execution_count": 8,
   "metadata": {},
   "outputs": [],
   "source": [
    "X = heart_prev.drop(['Zip Code', 'Heart Disease Prevalence','Restaurant Count','Population Group','Restaurant Group'], axis = 1)\n",
    "y = heart_prev['Heart Disease Prevalence'].values\n",
    "X_train, X_test, y_train, y_test = train_test_split(X, y, test_size = 0.20,random_state=42)"
   ]
  },
  {
   "cell_type": "code",
   "execution_count": 9,
   "metadata": {},
   "outputs": [],
   "source": [
    "df = heart_prev.drop(['Zip Code', 'Heart Disease Prevalence','Restaurant Count','Population Group','Restaurant Group'], axis = 1)"
   ]
  },
  {
   "cell_type": "code",
   "execution_count": 10,
   "metadata": {},
   "outputs": [
    {
     "data": {
      "text/plain": [
       "((3836, 8), (3836,))"
      ]
     },
     "execution_count": 10,
     "metadata": {},
     "output_type": "execute_result"
    }
   ],
   "source": [
    "X_train.shape,y_train.shape"
   ]
  },
  {
   "cell_type": "code",
   "execution_count": 11,
   "metadata": {},
   "outputs": [],
   "source": [
    "from sklearn.linear_model import LinearRegression\n",
    "lm= LinearRegression()\n",
    "model = lm.fit(X_train, y_train)"
   ]
  },
  {
   "cell_type": "code",
   "execution_count": 12,
   "metadata": {},
   "outputs": [
    {
     "name": "stdout",
     "output_type": "stream",
     "text": [
      "\n",
      "Average Score on 5-Folds:  0.6474985037591783\n"
     ]
    }
   ],
   "source": [
    "cv_scores= cross_val_score(lm, X_train, y_train, cv=5,scoring=\"neg_mean_squared_error\")\n",
    "cv_scores = np.sqrt(cv_scores* -1 )\n",
    "reg_scr=np.mean(cv_scores)\n",
    "reg_scr\n",
    "print(\"\\nAverage Score on 5-Folds: \", reg_scr)"
   ]
  },
  {
   "cell_type": "code",
   "execution_count": 13,
   "metadata": {},
   "outputs": [
    {
     "name": "stdout",
     "output_type": "stream",
     "text": [
      "Accuracy Cv  0.8755660748906611\n"
     ]
    }
   ],
   "source": [
    "predictions = cross_val_predict(lm,df,y, cv=5)\n",
    "accuracy = metrics.r2_score(y,predictions)\n",
    "print(\"Accuracy Cv \", accuracy)"
   ]
  },
  {
   "cell_type": "markdown",
   "metadata": {},
   "source": [
    "### Decision Tree Regressor"
   ]
  },
  {
   "cell_type": "code",
   "execution_count": 14,
   "metadata": {},
   "outputs": [],
   "source": [
    "from sklearn import tree\n",
    "dt= tree.DecisionTreeRegressor(max_depth=6,random_state=42)\n",
    "clf = dt.fit(X_train,y_train)\n",
    "y_pred = dt.predict(X_test)"
   ]
  },
  {
   "cell_type": "code",
   "execution_count": 15,
   "metadata": {},
   "outputs": [
    {
     "name": "stdout",
     "output_type": "stream",
     "text": [
      "\n",
      "Average Score on 5-Folds of Decision Tree:  0.7038938447341189\n"
     ]
    }
   ],
   "source": [
    "cv_scores= cross_val_score(dt, X_train, y_train, cv=5,scoring=\"neg_mean_squared_error\")\n",
    "cv_scores = np.sqrt(cv_scores* -1 )\n",
    "dt_src=np.mean(cv_scores)\n",
    "print(\"\\nAverage Score on 5-Folds of Decision Tree: \", dt_src)"
   ]
  },
  {
   "cell_type": "code",
   "execution_count": 16,
   "metadata": {},
   "outputs": [
    {
     "name": "stdout",
     "output_type": "stream",
     "text": [
      "Accuracy Cv of Decision Tree 0.8500642714882691\n"
     ]
    }
   ],
   "source": [
    "predictions = cross_val_predict(dt,df,y, cv=5)\n",
    "accuracy = metrics.r2_score(y,predictions)\n",
    "print(\"Accuracy Cv of Decision Tree\", accuracy)\n"
   ]
  },
  {
   "cell_type": "markdown",
   "metadata": {},
   "source": [
    "### Random Forest Regressor"
   ]
  },
  {
   "cell_type": "code",
   "execution_count": 17,
   "metadata": {},
   "outputs": [
    {
     "data": {
      "text/plain": [
       "RandomForestRegressor(bootstrap=True, criterion='mse', max_depth=None,\n",
       "                      max_features='auto', max_leaf_nodes=None,\n",
       "                      min_impurity_decrease=0.0, min_impurity_split=None,\n",
       "                      min_samples_leaf=1, min_samples_split=2,\n",
       "                      min_weight_fraction_leaf=0.0, n_estimators=10,\n",
       "                      n_jobs=None, oob_score=False, random_state=42, verbose=0,\n",
       "                      warm_start=False)"
      ]
     },
     "execution_count": 17,
     "metadata": {},
     "output_type": "execute_result"
    }
   ],
   "source": [
    "from sklearn.ensemble import RandomForestRegressor\n",
    "rfr = RandomForestRegressor(random_state=42)\n",
    "rfr.fit(X_train,y_train)"
   ]
  },
  {
   "cell_type": "code",
   "execution_count": 18,
   "metadata": {},
   "outputs": [
    {
     "name": "stdout",
     "output_type": "stream",
     "text": [
      "\n",
      "Average Score on 5-Folds of Random Forest:  0.6043216206837974\n"
     ]
    }
   ],
   "source": [
    "cv_scores= cross_val_score(rfr, X_train, y_train, cv=5,scoring=\"neg_mean_squared_error\")\n",
    "cv_scores = np.sqrt(cv_scores* -1 )\n",
    "rfg_scr=np.mean(cv_scores)\n",
    "print(\"\\nAverage Score on 5-Folds of Random Forest: \", rfg_scr)"
   ]
  },
  {
   "cell_type": "code",
   "execution_count": 19,
   "metadata": {},
   "outputs": [
    {
     "name": "stdout",
     "output_type": "stream",
     "text": [
      "Accuracy Cv of Random Forest: 0.8762067574620632\n"
     ]
    }
   ],
   "source": [
    "predictions = cross_val_predict(rfr,df,y, cv=5)\n",
    "accuracy = metrics.r2_score(y,predictions)\n",
    "print(\"Accuracy Cv of Random Forest:\", accuracy)"
   ]
  },
  {
   "cell_type": "markdown",
   "metadata": {},
   "source": [
    "### Adaptive Boost"
   ]
  },
  {
   "cell_type": "code",
   "execution_count": 22,
   "metadata": {},
   "outputs": [],
   "source": [
    "from sklearn.ensemble import AdaBoostRegressor\n",
    "adb = AdaBoostRegressor(n_estimators=100, base_estimator=dt,learning_rate=1,random_state=42)\n",
    "clf = adb.fit(X_train,y_train)"
   ]
  },
  {
   "cell_type": "code",
   "execution_count": 23,
   "metadata": {},
   "outputs": [
    {
     "name": "stdout",
     "output_type": "stream",
     "text": [
      "\n",
      "Average Score on 5-Folds of Adaptive Boost Regressor:  0.6031027256927415\n"
     ]
    }
   ],
   "source": [
    "cv_scores= cross_val_score(adb, X_train, y_train, cv=5,scoring=\"neg_mean_squared_error\")\n",
    "cv_scores = np.sqrt(cv_scores* -1 )\n",
    "adb_scr=np.mean(cv_scores)\n",
    "print(\"\\nAverage Score on 5-Folds of Adaptive Boost Regressor: \", adb_scr)"
   ]
  },
  {
   "cell_type": "code",
   "execution_count": 24,
   "metadata": {},
   "outputs": [
    {
     "name": "stdout",
     "output_type": "stream",
     "text": [
      "Accuracy Cv of Adaptive Boost Regressor: 0.8834795679900951\n"
     ]
    }
   ],
   "source": [
    "predictions = cross_val_predict(adb,df,y, cv=5)\n",
    "accuracy = metrics.r2_score(y,predictions)\n",
    "print(\"Accuracy Cv of Adaptive Boost Regressor:\", accuracy)"
   ]
  },
  {
   "cell_type": "markdown",
   "metadata": {},
   "source": [
    "### Gradient Boost Regressor"
   ]
  },
  {
   "cell_type": "code",
   "execution_count": 25,
   "metadata": {},
   "outputs": [
    {
     "data": {
      "text/plain": [
       "GradientBoostingRegressor(alpha=0.9, criterion='friedman_mse', init=None,\n",
       "                          learning_rate=0.1, loss='ls', max_depth=3,\n",
       "                          max_features=None, max_leaf_nodes=None,\n",
       "                          min_impurity_decrease=0.0, min_impurity_split=None,\n",
       "                          min_samples_leaf=1, min_samples_split=2,\n",
       "                          min_weight_fraction_leaf=0.0, n_estimators=100,\n",
       "                          n_iter_no_change=None, presort='auto',\n",
       "                          random_state=42, subsample=1.0, tol=0.0001,\n",
       "                          validation_fraction=0.1, verbose=0, warm_start=False)"
      ]
     },
     "execution_count": 25,
     "metadata": {},
     "output_type": "execute_result"
    }
   ],
   "source": [
    "from sklearn.ensemble import GradientBoostingRegressor\n",
    "gb = GradientBoostingRegressor(random_state=42)\n",
    "gb.fit(X_train,y_train)"
   ]
  },
  {
   "cell_type": "code",
   "execution_count": 26,
   "metadata": {},
   "outputs": [
    {
     "name": "stdout",
     "output_type": "stream",
     "text": [
      "\n",
      "Average Score on 5-Folds of Gradient Boost Regressor:  0.5821800097297372\n"
     ]
    }
   ],
   "source": [
    "cv_scores= cross_val_score(gb, X_train, y_train, cv=5,scoring=\"neg_mean_squared_error\")\n",
    "cv_scores = np.sqrt(cv_scores* -1 )\n",
    "gbr_src=np.mean(cv_scores)\n",
    "print(\"\\nAverage Score on 5-Folds of Gradient Boost Regressor: \", gbr_src)"
   ]
  },
  {
   "cell_type": "code",
   "execution_count": 27,
   "metadata": {},
   "outputs": [
    {
     "name": "stdout",
     "output_type": "stream",
     "text": [
      "Accuracy Cv of Gradient Boost Regressor: 0.8892577827811858\n"
     ]
    }
   ],
   "source": [
    "predictions = cross_val_predict(gb,df,y, cv=5)\n",
    "accuracy = metrics.r2_score(y,predictions)\n",
    "print(\"Accuracy Cv of Gradient Boost Regressor:\", accuracy)"
   ]
  },
  {
   "cell_type": "markdown",
   "metadata": {},
   "source": [
    "### Summary of un-tuned scores"
   ]
  },
  {
   "cell_type": "markdown",
   "metadata": {},
   "source": [
    "A gradient boost regressor had the best default performance at 0.582 RMSE. The random forest performed similarly well at 0.604 RMSE. Both estimators should be evaluated for improved performance through tuning."
   ]
  },
  {
   "cell_type": "code",
   "execution_count": 28,
   "metadata": {},
   "outputs": [
    {
     "data": {
      "text/html": [
       "<div>\n",
       "<style scoped>\n",
       "    .dataframe tbody tr th:only-of-type {\n",
       "        vertical-align: middle;\n",
       "    }\n",
       "\n",
       "    .dataframe tbody tr th {\n",
       "        vertical-align: top;\n",
       "    }\n",
       "\n",
       "    .dataframe thead th {\n",
       "        text-align: right;\n",
       "    }\n",
       "</style>\n",
       "<table border=\"1\" class=\"dataframe\">\n",
       "  <thead>\n",
       "    <tr style=\"text-align: right;\">\n",
       "      <th></th>\n",
       "      <th>Model</th>\n",
       "      <th>Score</th>\n",
       "    </tr>\n",
       "  </thead>\n",
       "  <tbody>\n",
       "    <tr>\n",
       "      <th>4</th>\n",
       "      <td>GradientBoost</td>\n",
       "      <td>0.582180</td>\n",
       "    </tr>\n",
       "    <tr>\n",
       "      <th>3</th>\n",
       "      <td>AdaptiveBoost</td>\n",
       "      <td>0.603103</td>\n",
       "    </tr>\n",
       "    <tr>\n",
       "      <th>2</th>\n",
       "      <td>RandomForest</td>\n",
       "      <td>0.604322</td>\n",
       "    </tr>\n",
       "    <tr>\n",
       "      <th>0</th>\n",
       "      <td>LinearRegression</td>\n",
       "      <td>0.647499</td>\n",
       "    </tr>\n",
       "    <tr>\n",
       "      <th>1</th>\n",
       "      <td>DecisionTree</td>\n",
       "      <td>0.703894</td>\n",
       "    </tr>\n",
       "  </tbody>\n",
       "</table>\n",
       "</div>"
      ],
      "text/plain": [
       "              Model     Score\n",
       "4     GradientBoost  0.582180\n",
       "3     AdaptiveBoost  0.603103\n",
       "2      RandomForest  0.604322\n",
       "0  LinearRegression  0.647499\n",
       "1      DecisionTree  0.703894"
      ]
     },
     "execution_count": 28,
     "metadata": {},
     "output_type": "execute_result"
    }
   ],
   "source": [
    "cv_model = pd.DataFrame({'Model':['LinearRegression','DecisionTree','RandomForest','AdaptiveBoost','GradientBoost'],\n",
    "                      'Score':[reg_scr,dt_src,rfg_scr,adb_scr,gbr_src]})\n",
    "cv_model.sort_values(by='Score',ascending=True)"
   ]
  },
  {
   "cell_type": "markdown",
   "metadata": {},
   "source": [
    "### Hyperparamenter Tuning"
   ]
  },
  {
   "cell_type": "markdown",
   "metadata": {},
   "source": [
    "### Tuned Gradient Boost Regression"
   ]
  },
  {
   "cell_type": "code",
   "execution_count": 29,
   "metadata": {},
   "outputs": [
    {
     "name": "stdout",
     "output_type": "stream",
     "text": [
      "Fitting 5 folds for each of 6 candidates, totalling 30 fits\n",
      "[Parallel(n_jobs=1)]: Using backend SequentialBackend with 1 concurrent workers.\n",
      "[CV] max_depth=3, n_estimators=100 ...................................\n",
      "[CV] ...... max_depth=3, n_estimators=100, score=-0.340, total=   0.4s\n",
      "[Parallel(n_jobs=1)]: Done   1 out of   1 | elapsed:    0.3s remaining:    0.0s\n",
      "[CV] max_depth=3, n_estimators=100 ...................................\n",
      "[CV] ...... max_depth=3, n_estimators=100, score=-0.298, total=   0.3s\n",
      "[Parallel(n_jobs=1)]: Done   2 out of   2 | elapsed:    0.6s remaining:    0.0s\n",
      "[CV] max_depth=3, n_estimators=100 ...................................\n",
      "[CV] ...... max_depth=3, n_estimators=100, score=-0.370, total=   0.3s\n",
      "[Parallel(n_jobs=1)]: Done   3 out of   3 | elapsed:    1.0s remaining:    0.0s\n",
      "[CV] max_depth=3, n_estimators=100 ...................................\n",
      "[CV] ...... max_depth=3, n_estimators=100, score=-0.386, total=   0.4s\n",
      "[Parallel(n_jobs=1)]: Done   4 out of   4 | elapsed:    1.3s remaining:    0.0s\n",
      "[CV] max_depth=3, n_estimators=100 ...................................\n",
      "[CV] ...... max_depth=3, n_estimators=100, score=-0.306, total=   0.4s\n",
      "[Parallel(n_jobs=1)]: Done   5 out of   5 | elapsed:    1.7s remaining:    0.0s\n",
      "[CV] max_depth=3, n_estimators=200 ...................................\n",
      "[CV] ...... max_depth=3, n_estimators=200, score=-0.332, total=   0.8s\n",
      "[Parallel(n_jobs=1)]: Done   6 out of   6 | elapsed:    2.4s remaining:    0.0s\n",
      "[CV] max_depth=3, n_estimators=200 ...................................\n",
      "[CV] ...... max_depth=3, n_estimators=200, score=-0.291, total=   0.7s\n",
      "[Parallel(n_jobs=1)]: Done   7 out of   7 | elapsed:    3.2s remaining:    0.0s\n",
      "[CV] max_depth=3, n_estimators=200 ...................................\n",
      "[CV] ...... max_depth=3, n_estimators=200, score=-0.360, total=   0.7s\n",
      "[Parallel(n_jobs=1)]: Done   8 out of   8 | elapsed:    3.9s remaining:    0.0s\n",
      "[CV] max_depth=3, n_estimators=200 ...................................\n",
      "[CV] ...... max_depth=3, n_estimators=200, score=-0.377, total=   0.6s\n",
      "[Parallel(n_jobs=1)]: Done   9 out of   9 | elapsed:    4.5s remaining:    0.0s\n",
      "[CV] max_depth=3, n_estimators=200 ...................................\n",
      "[CV] ...... max_depth=3, n_estimators=200, score=-0.301, total=   0.6s\n",
      "[Parallel(n_jobs=1)]: Done  10 out of  10 | elapsed:    5.1s remaining:    0.0s\n",
      "[CV] max_depth=3, n_estimators=500 ...................................\n",
      "[CV] ...... max_depth=3, n_estimators=500, score=-0.328, total=   1.6s\n",
      "[Parallel(n_jobs=1)]: Done  11 out of  11 | elapsed:    6.7s remaining:    0.0s\n",
      "[CV] max_depth=3, n_estimators=500 ...................................\n",
      "[CV] ...... max_depth=3, n_estimators=500, score=-0.300, total=   1.6s\n",
      "[Parallel(n_jobs=1)]: Done  12 out of  12 | elapsed:    8.3s remaining:    0.0s\n",
      "[CV] max_depth=3, n_estimators=500 ...................................\n",
      "[CV] ...... max_depth=3, n_estimators=500, score=-0.363, total=   1.6s\n",
      "[Parallel(n_jobs=1)]: Done  13 out of  13 | elapsed:    9.9s remaining:    0.0s\n",
      "[CV] max_depth=3, n_estimators=500 ...................................\n",
      "[CV] ...... max_depth=3, n_estimators=500, score=-0.371, total=   1.6s\n",
      "[Parallel(n_jobs=1)]: Done  14 out of  14 | elapsed:   11.5s remaining:    0.0s\n",
      "[CV] max_depth=3, n_estimators=500 ...................................\n",
      "[CV] ...... max_depth=3, n_estimators=500, score=-0.301, total=   1.6s\n",
      "[Parallel(n_jobs=1)]: Done  15 out of  15 | elapsed:   13.1s remaining:    0.0s\n",
      "[CV] max_depth=5, n_estimators=100 ...................................\n",
      "[CV] ...... max_depth=5, n_estimators=100, score=-0.313, total=   0.6s\n",
      "[Parallel(n_jobs=1)]: Done  16 out of  16 | elapsed:   13.7s remaining:    0.0s\n",
      "[CV] max_depth=5, n_estimators=100 ...................................\n",
      "[CV] ...... max_depth=5, n_estimators=100, score=-0.290, total=   0.6s\n",
      "[Parallel(n_jobs=1)]: Done  17 out of  17 | elapsed:   14.3s remaining:    0.0s\n",
      "[CV] max_depth=5, n_estimators=100 ...................................\n",
      "[CV] ...... max_depth=5, n_estimators=100, score=-0.365, total=   0.6s\n",
      "[Parallel(n_jobs=1)]: Done  18 out of  18 | elapsed:   14.9s remaining:    0.0s\n",
      "[CV] max_depth=5, n_estimators=100 ...................................\n",
      "[CV] ...... max_depth=5, n_estimators=100, score=-0.362, total=   0.6s\n",
      "[Parallel(n_jobs=1)]: Done  19 out of  19 | elapsed:   15.6s remaining:    0.0s\n",
      "[CV] max_depth=5, n_estimators=100 ...................................\n",
      "[CV] ...... max_depth=5, n_estimators=100, score=-0.294, total=   0.6s\n",
      "[Parallel(n_jobs=1)]: Done  20 out of  20 | elapsed:   16.2s remaining:    0.0s\n",
      "[CV] max_depth=5, n_estimators=200 ...................................\n",
      "[CV] ...... max_depth=5, n_estimators=200, score=-0.312, total=   1.2s\n",
      "[Parallel(n_jobs=1)]: Done  21 out of  21 | elapsed:   17.3s remaining:    0.0s\n",
      "[CV] max_depth=5, n_estimators=200 ...................................\n",
      "[CV] ...... max_depth=5, n_estimators=200, score=-0.297, total=   1.2s\n",
      "[Parallel(n_jobs=1)]: Done  22 out of  22 | elapsed:   18.6s remaining:    0.0s\n",
      "[CV] max_depth=5, n_estimators=200 ...................................\n",
      "[CV] ...... max_depth=5, n_estimators=200, score=-0.371, total=   1.3s\n",
      "[Parallel(n_jobs=1)]: Done  23 out of  23 | elapsed:   19.8s remaining:    0.0s\n",
      "[CV] max_depth=5, n_estimators=200 ...................................\n",
      "[CV] ...... max_depth=5, n_estimators=200, score=-0.364, total=   1.1s\n",
      "[Parallel(n_jobs=1)]: Done  24 out of  24 | elapsed:   21.0s remaining:    0.0s\n",
      "[CV] max_depth=5, n_estimators=200 ...................................\n",
      "[CV] ...... max_depth=5, n_estimators=200, score=-0.297, total=   1.2s\n",
      "[Parallel(n_jobs=1)]: Done  25 out of  25 | elapsed:   22.2s remaining:    0.0s\n",
      "[CV] max_depth=5, n_estimators=500 ...................................\n",
      "[CV] ...... max_depth=5, n_estimators=500, score=-0.316, total=   2.6s\n",
      "[Parallel(n_jobs=1)]: Done  26 out of  26 | elapsed:   24.8s remaining:    0.0s\n",
      "[CV] max_depth=5, n_estimators=500 ...................................\n",
      "[CV] ...... max_depth=5, n_estimators=500, score=-0.313, total=   3.0s\n",
      "[Parallel(n_jobs=1)]: Done  27 out of  27 | elapsed:   27.8s remaining:    0.0s\n",
      "[CV] max_depth=5, n_estimators=500 ...................................\n",
      "[CV] ...... max_depth=5, n_estimators=500, score=-0.385, total=   3.1s\n",
      "[Parallel(n_jobs=1)]: Done  28 out of  28 | elapsed:   30.9s remaining:    0.0s\n",
      "[CV] max_depth=5, n_estimators=500 ...................................\n",
      "[CV] ...... max_depth=5, n_estimators=500, score=-0.368, total=   2.9s\n",
      "[Parallel(n_jobs=1)]: Done  29 out of  29 | elapsed:   33.8s remaining:    0.0s\n",
      "[CV] max_depth=5, n_estimators=500 ...................................\n",
      "[CV] ...... max_depth=5, n_estimators=500, score=-0.305, total=   3.1s\n",
      "[Parallel(n_jobs=1)]: Done  30 out of  30 | elapsed:   37.0s remaining:    0.0s\n",
      "[Parallel(n_jobs=1)]: Done  30 out of  30 | elapsed:   37.0s finished\n"
     ]
    },
    {
     "data": {
      "text/plain": [
       "GridSearchCV(cv=5, error_score='raise-deprecating',\n",
       "             estimator=GradientBoostingRegressor(alpha=0.9,\n",
       "                                                 criterion='friedman_mse',\n",
       "                                                 init=None, learning_rate=0.1,\n",
       "                                                 loss='ls', max_depth=3,\n",
       "                                                 max_features=None,\n",
       "                                                 max_leaf_nodes=None,\n",
       "                                                 min_impurity_decrease=0.0,\n",
       "                                                 min_impurity_split=None,\n",
       "                                                 min_samples_leaf=1,\n",
       "                                                 min_samples_split=2,\n",
       "                                                 min_weight_fraction_leaf=0.0,\n",
       "                                                 n_estimators=100,\n",
       "                                                 n_iter_no_change=None,\n",
       "                                                 presort='auto',\n",
       "                                                 random_state=42, subsample=1.0,\n",
       "                                                 tol=0.0001,\n",
       "                                                 validation_fraction=0.1,\n",
       "                                                 verbose=0, warm_start=False),\n",
       "             iid='warn', n_jobs=None,\n",
       "             param_grid={'max_depth': [3, 5], 'n_estimators': [100, 200, 500]},\n",
       "             pre_dispatch='2*n_jobs', refit=True, return_train_score=False,\n",
       "             scoring='neg_mean_squared_error', verbose=100)"
      ]
     },
     "execution_count": 29,
     "metadata": {},
     "output_type": "execute_result"
    }
   ],
   "source": [
    "from sklearn.model_selection import GridSearchCV\n",
    "p_test3 = { 'n_estimators':[100,200,500],'max_depth': [3,5]}\n",
    "tuning = GridSearchCV(estimator =GradientBoostingRegressor(random_state=42),param_grid =p_test3,\n",
    "                     verbose=100,scoring=\"neg_mean_squared_error\",cv=5)\n",
    "tuning.fit(X_train,y_train)\n",
    "\n"
   ]
  },
  {
   "cell_type": "code",
   "execution_count": 30,
   "metadata": {},
   "outputs": [
    {
     "name": "stdout",
     "output_type": "stream",
     "text": [
      "Best parameters:\n",
      "---------------\n",
      "max_depth :  5\n",
      "n_estimators :  100\n",
      "\n",
      "Best score:  0.5699548443231076\n"
     ]
    }
   ],
   "source": [
    "cv_param = tuning.best_params_\n",
    "cv_score = np.sqrt(tuning.best_score_ * -1)\n",
    "\n",
    "print(\"Best parameters:\\n---------------\")\n",
    "for k,v in cv_param.items():\n",
    "    print(k,\": \",v)\n",
    "print(\"\\nBest score: \", cv_score)\n"
   ]
  },
  {
   "cell_type": "code",
   "execution_count": 31,
   "metadata": {},
   "outputs": [
    {
     "data": {
      "text/plain": [
       "100"
      ]
     },
     "execution_count": 31,
     "metadata": {},
     "output_type": "execute_result"
    }
   ],
   "source": [
    "best_est = GradientBoostingRegressor(p_test3)\n",
    "best_est.n_estimators"
   ]
  },
  {
   "cell_type": "markdown",
   "metadata": {},
   "source": [
    "### Feature importance"
   ]
  },
  {
   "cell_type": "markdown",
   "metadata": {},
   "source": [
    "Now we examine which features provide the most predictive value for the model using Mutual Information scoring"
   ]
  },
  {
   "cell_type": "code",
   "execution_count": 32,
   "metadata": {},
   "outputs": [
    {
     "data": {
      "text/plain": [
       "[('Smoking Prevalence', 0.24555527308853442),\n",
       " ('Hypertension Prevalence', 0.8960500601611407),\n",
       " ('Obesity Prevalence', 0.2936552949941156),\n",
       " ('Sedentarism Prevalence', 0.3663981216032903),\n",
       " ('Cholesterol Prevalence', 0.902455526526535),\n",
       " ('Diabetes Prevalence', 0.8245541363847018),\n",
       " ('median_household_income', 0.3087819185098635),\n",
       " ('Population', 0.11137629848506059)]"
      ]
     },
     "execution_count": 32,
     "metadata": {},
     "output_type": "execute_result"
    }
   ],
   "source": [
    "from sklearn.feature_selection import SelectKBest\n",
    "from sklearn.feature_selection import mutual_info_regression\n",
    "best_k = SelectKBest(score_func=mutual_info_regression, k=8).fit(X_train,y_train)\n",
    "#best_k.fit(X_train,y_train)  \n",
    "#best_k.scores_\n",
    "feature_names = X.columns\n",
    "feature_scores = list(zip(feature_names, best_k.scores_))\n",
    "feature_scores"
   ]
  },
  {
   "cell_type": "code",
   "execution_count": 56,
   "metadata": {},
   "outputs": [
    {
     "data": {
      "text/plain": [
       "<matplotlib.axes._subplots.AxesSubplot at 0xfe796d8>"
      ]
     },
     "execution_count": 56,
     "metadata": {},
     "output_type": "execute_result"
    },
    {
     "data": {
      "image/png": "[encoded data removed]",
      "text/plain": [
       "<Figure size 1440x576 with 1 Axes>"
      ]
     },
     "metadata": {
      "needs_background": "light"
     },
     "output_type": "display_data"
    }
   ],
   "source": [
    "feature_imp = pd.Series(gb.feature_importances_,X_train.columns).sort_values(ascending=False)\n",
    "feature_imp.plot.bar(figsize=(20,8))\n",
    "#sns.barplot(feature_imp, palette=\"Reds_r\")"
   ]
  },
  {
   "cell_type": "markdown",
   "metadata": {},
   "source": [
    "### Q. In above graph Sedentarism Prevalence feature is coming at last but in below graph it has good impact. So which method should i use ?"
   ]
  },
  {
   "cell_type": "code",
   "execution_count": 34,
   "metadata": {},
   "outputs": [
    {
     "data": {
      "text/plain": [
       "array([0.24594455, 0.89434706, 0.29360139, 0.36655772, 0.90208248,\n",
       "       0.82384869, 0.30895076, 0.11556321])"
      ]
     },
     "execution_count": 34,
     "metadata": {},
     "output_type": "execute_result"
    }
   ],
   "source": [
    "mutual_info = mutual_info_regression(X_train, y_train)\n",
    "mutual_info"
   ]
  },
  {
   "cell_type": "code",
   "execution_count": 58,
   "metadata": {},
   "outputs": [
    {
     "data": {
      "text/plain": [
       "<matplotlib.axes._subplots.AxesSubplot at 0xfb4f2e8>"
      ]
     },
     "execution_count": 58,
     "metadata": {},
     "output_type": "execute_result"
    },
    {
     "data": {
      "image/png": "[encoded data removed]",
      "text/plain": [
       "<Figure size 1440x576 with 1 Axes>"
      ]
     },
     "metadata": {
      "needs_background": "light"
     },
     "output_type": "display_data"
    }
   ],
   "source": [
    "mi_series = pd.Series(mutual_info)\n",
    "mi_series.index = X_train.columns\n",
    "feature = mi_series.sort_values(ascending=False)\n",
    "mi_series.sort_values(ascending=False).plot.bar(figsize=(20,8))"
   ]
  },
  {
   "cell_type": "code",
   "execution_count": 59,
   "metadata": {},
   "outputs": [
    {
     "data": {
      "text/plain": [
       "Cholesterol Prevalence     0.902082\n",
       "Hypertension Prevalence    0.894347\n",
       "Diabetes Prevalence        0.823849\n",
       "Sedentarism Prevalence     0.366558\n",
       "median_household_income    0.308951\n",
       "Obesity Prevalence         0.293601\n",
       "Smoking Prevalence         0.245945\n",
       "Population                 0.115563\n",
       "dtype: float64"
      ]
     },
     "execution_count": 59,
     "metadata": {},
     "output_type": "execute_result"
    }
   ],
   "source": [
    "feature"
   ]
  },
  {
   "cell_type": "code",
   "execution_count": 36,
   "metadata": {},
   "outputs": [
    {
     "name": "stdout",
     "output_type": "stream",
     "text": [
      "Selected top 10 features: Index(['Smoking Prevalence', 'Hypertension Prevalence', 'Obesity Prevalence',\n",
      "       'Sedentarism Prevalence', 'Cholesterol Prevalence',\n",
      "       'Diabetes Prevalence', 'median_household_income', 'Population'],\n",
      "      dtype='object')\n"
     ]
    }
   ],
   "source": [
    "k_best_features = SelectKBest(score_func=mutual_info_regression, k=8).fit(X_train,y_train)\n",
    "print('Selected top 10 features: {}'.format(X_train.columns[k_best_features.get_support()]))"
   ]
  },
  {
   "cell_type": "markdown",
   "metadata": {},
   "source": [
    "### Final Results"
   ]
  },
  {
   "cell_type": "code",
   "execution_count": 37,
   "metadata": {},
   "outputs": [
    {
     "name": "stdout",
     "output_type": "stream",
     "text": [
      "Training set R2: 96.31225581269929\n",
      "Training set RMSE: 0.3651638059110139\n"
     ]
    }
   ],
   "source": [
    "model_gbr = GradientBoostingRegressor(n_estimators=100,max_depth=5 ,random_state=42)\n",
    "model_gbr.fit(X_train,y_train)\n",
    "pred_train=model_gbr.predict(X_train)\n",
    "pred_test =model_gbr.predict(X_test)\n",
    "train_score = model_gbr.score(X_train,y_train)\n",
    "train_rmse = np.sqrt(mean_squared_error(y_train,pred_train))\n",
    "print(\"Training set R2: {}\".format(train_score*100))\n",
    "print(\"Training set RMSE: {}\".format(train_rmse))"
   ]
  },
  {
   "cell_type": "code",
   "execution_count": 38,
   "metadata": {},
   "outputs": [
    {
     "name": "stdout",
     "output_type": "stream",
     "text": [
      "Training set R2: 90.44310433714091\n",
      "Training set RMSE: 0.6274457889055144\n"
     ]
    }
   ],
   "source": [
    "test_score = model_gbr.score(X_test,y_test)\n",
    "test_rmse = np.sqrt(mean_squared_error(y_test,pred_test))\n",
    "test_score,test_rmse\n",
    "print(\"Training set R2: {}\".format(test_score*100))\n",
    "print(\"Training set RMSE: {}\".format(test_rmse))"
   ]
  }
 ],
 "metadata": {
  "kernelspec": {
   "display_name": "Python 3",
   "language": "python",
   "name": "python3"
  },
  "language_info": {
   "codemirror_mode": {
    "name": "ipython",
    "version": 3
   },
   "file_extension": ".py",
   "mimetype": "text/x-python",
   "name": "python",
   "nbconvert_exporter": "python",
   "pygments_lexer": "ipython3",
   "version": "3.7.3"
  }
 },
 "nbformat": 4,
 "nbformat_minor": 2
}
